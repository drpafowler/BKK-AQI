{
 "cells": [
  {
   "cell_type": "markdown",
   "metadata": {},
   "source": [
    "This notebook is being used to determine the best approach to calculating AQI.  The methods developed here will be used in the pipeline."
   ]
  },
  {
   "cell_type": "code",
   "execution_count": 178,
   "metadata": {},
   "outputs": [],
   "source": [
    "# import libraries\n",
    "import pandas as pd\n",
    "import numpy as np\n",
    "import matplotlib.pyplot as plt\n",
    "import seaborn as sns\n",
    "import sqlite3  \n",
    "from aqipy import aqi_us\n",
    "from aqipy import aqi_cn\n",
    "from aqipy import aqi_in\n",
    "from aqipy import aqi_au\n",
    "from aqipy import caqi_eu\n",
    "from aqipy import cai_kr\n",
    "from aqipy import daqi_uk\n",
    "from aqipy import aqhi_hk\n",
    "from aqipy import aqhi_ca\n",
    "from aqipy import psi_sg"
   ]
  },
  {
   "cell_type": "code",
   "execution_count": 179,
   "metadata": {},
   "outputs": [
    {
     "name": "stdout",
     "output_type": "stream",
     "text": [
      "                           id  aqi   co     h  no2    o3  pressure  pm10  \\\n",
      "time_iso                                                                   \n",
      "2025-02-13 20:00:00+07:00   1  138  0.1  48.0  2.4  19.4    1010.0    58   \n",
      "2025-02-13 20:00:00+07:00   2  138  0.1  48.0  2.4  19.4    1010.0    58   \n",
      "2025-02-13 20:00:00+07:00   3  138  0.1  48.0  2.4  19.4    1010.0    58   \n",
      "2025-02-13 20:00:00+07:00   4  138  0.1  48.0  2.4  19.4    1010.0    58   \n",
      "2025-02-13 20:00:00+07:00   5  138  0.1  48.0  2.4  19.4    1010.0    58   \n",
      "\n",
      "                           pm25  so2  temperature  wind  city_geo_lat  \\\n",
      "time_iso                                                                \n",
      "2025-02-13 20:00:00+07:00   138  0.6         30.0   2.0     13.756331   \n",
      "2025-02-13 20:00:00+07:00   138  0.6         30.0   2.0     13.756331   \n",
      "2025-02-13 20:00:00+07:00   138  0.6         30.0   2.0     13.756331   \n",
      "2025-02-13 20:00:00+07:00   138  0.6         30.0   2.0     13.756331   \n",
      "2025-02-13 20:00:00+07:00   138  0.6         30.0   2.0     13.756331   \n",
      "\n",
      "                           city_geo_lon city_name  \n",
      "time_iso                                           \n",
      "2025-02-13 20:00:00+07:00    100.501765   Bangkok  \n",
      "2025-02-13 20:00:00+07:00    100.501765   Bangkok  \n",
      "2025-02-13 20:00:00+07:00    100.501765   Bangkok  \n",
      "2025-02-13 20:00:00+07:00    100.501765   Bangkok  \n",
      "2025-02-13 20:00:00+07:00    100.501765   Bangkok  \n"
     ]
    }
   ],
   "source": [
    "# Load data\n",
    "import os\n",
    "\n",
    "# connect to the db and load the data\n",
    "\n",
    "conn = sqlite3.connect('./data/bkk_aqi.db')\n",
    "c = conn.cursor()\n",
    "aqi_data = pd.read_sql_query(\"SELECT * FROM aqi_data\", conn)\n",
    "aqi_data['time_iso'] = pd.to_datetime(aqi_data['time_iso'])\n",
    "aqi_data = aqi_data.set_index('time_iso')\n",
    "\n",
    "print(aqi_data.head())"
   ]
  },
  {
   "cell_type": "code",
   "execution_count": 180,
   "metadata": {},
   "outputs": [],
   "source": [
    "# Pull the most recent 1 hours of data\n",
    "recent_data_1h = aqi_data[aqi_data.index >= (aqi_data.index.max() - pd.Timedelta(hours=1))]\n",
    "\n",
    "#calculate the mean of the most recent 1 hour of data for o3, no2, and so2\n",
    "mean_o3_1h = recent_data_1h['o3'].mean()\n",
    "mean_no2_1h = recent_data_1h['no2'].mean()\n",
    "mean_so2_1h = recent_data_1h['so2'].mean()\n",
    "\n",
    "# Calculate the max of the most recent 1 hour of data for o3, no2, and so2\n",
    "max_o3_1h = recent_data_1h['o3'].max()\n",
    "max_no2_1h = recent_data_1h['no2'].max()\n",
    "max_so2_1h = recent_data_1h['so2'].max()\n",
    "\n",
    "# Pull the most recent 3 hours of data\n",
    "recent_data_3h = aqi_data[aqi_data.index >= (aqi_data.index.max() - pd.Timedelta(hours=3))]\n",
    "\n",
    "# Calculate the mean of the recent 3 hours of data for pm10, pm25, o3, so2, no2 and co\n",
    "mean_pm10_3h = recent_data_3h['pm10'].mean()\n",
    "mean_pm25_3h = recent_data_3h['pm25'].mean()\n",
    "mean_o3_3h = recent_data_3h['o3'].mean()\n",
    "mean_so2_3h = recent_data_3h['so2'].mean()\n",
    "mean_no2_3h = recent_data_3h['no2'].mean()\n",
    "mean_co_3h = recent_data_3h['co'].mean()\n",
    "\n",
    "# Pull the most recent 4 hours of data\n",
    "recent_data_4h = aqi_data[aqi_data.index >= (aqi_data.index.max() - pd.Timedelta(hours=4))]\n",
    "\n",
    "# Calculate the mean of the recent 4 hours of data for o3\n",
    "mean_o3_4h = recent_data_4h['o3'].mean()\n",
    "\n",
    "# Pull the most recent 8 hours of data\n",
    "recent_data_8h = aqi_data[aqi_data.index >= (aqi_data.index.max() - pd.Timedelta(hours=8))]\n",
    "\n",
    "# Calculate the mean of the recent 8 hours of data for o3 and co\n",
    "mean_o3_8h = recent_data_8h['o3'].mean()\n",
    "mean_co_8h = recent_data_8h['co'].mean()\n",
    "\n",
    "# Pull the most recent 24 hours of data\n",
    "recent_data_24h = aqi_data[aqi_data.index >= (aqi_data.index.max() - pd.Timedelta(hours=24))]\n",
    "\n",
    "# Calculate the mean of the recent 24 hours of data for pm10, pm25, and so2\n",
    "mean_pm10_24h = recent_data_24h['pm10'].mean()\n",
    "mean_pm25_24h = recent_data_24h['pm25'].mean()\n",
    "mean_so2_24h = recent_data_24h['so2'].mean()"
   ]
  },
  {
   "cell_type": "code",
   "execution_count": 181,
   "metadata": {},
   "outputs": [
    {
     "name": "stdout",
     "output_type": "stream",
     "text": [
      "Singapore AQI: 500\n",
      "AQI O3: 500\n",
      "Effects O3: Healthy people may experience adverse symptoms that affect normal activity.\n",
      "Cautions O3: PSI levels above 400 may be life-threatening to ill and elderly persons\n",
      "AQI CO: 1\n",
      "Effects CO: Normal activities\n",
      "Cautions CO: Normal activities\n"
     ]
    }
   ],
   "source": [
    "# Get PSI using the sg calculations \n",
    "aqi_sg, aqi_data_sg = psi_sg.get_aqi(o3_8h=mean_o3_8h, co_8h=mean_co_8h, pm10_24h=mean_pm10_24h, pm25_24h=mean_pm25_24h, so2_24h=mean_so2_24h, no2_1h=mean_no2_1h)\n",
    "print('Singapore AQI:', aqi_sg)\n",
    "print('AQI O3:', aqi_data_sg['o3_8h'][0])\n",
    "print('Effects O3:', aqi_data_sg['o3_8h'][1])\n",
    "print('Cautions O3:', aqi_data_sg['o3_8h'][2])\n",
    "print('AQI CO:', aqi_data_sg['co_8h'][0])\n",
    "print('Effects CO:', aqi_data_sg['co_8h'][1])\n",
    "print('Cautions CO:', aqi_data_sg['co_8h'][2])"
   ]
  },
  {
   "cell_type": "code",
   "execution_count": 182,
   "metadata": {},
   "outputs": [
    {
     "name": "stdout",
     "output_type": "stream",
     "text": [
      "US AQI: 500\n",
      "AQI O3: 300\n",
      "Effects O3: Increasingly severe symptoms and impaired breathing likely in people with lung disease (such as asthma), children, older adults, people who are active outdoors (including outdoor workers), people with certain genetic variants, and people with diets limited in certain nutrients; increasing likelihood of respiratory effects in general population.\n",
      "Cautions O3: People with lung disease (such as asthma), children, older adults, people who are active outdoors (including outdoor workers), people with certain genetic variants, and people with diets limited in certain nutrients should avoid all outdoor exertion; everyone else should reduce outdoor exertion.\n",
      "AQI CO: 1\n",
      "Effects CO: \n",
      "Cautions CO: \n"
     ]
    }
   ],
   "source": [
    "# Get AQI using the us calculations \n",
    "aqi_us, aqi_data_us = aqi_us.get_aqi(o3_8h=mean_o3_8h, co_8h=mean_co_8h, pm10_24h=mean_pm10_24h, pm25_24h=mean_pm25_24h, so2_24h=mean_so2_24h, no2_1h=mean_no2_1h, o3_1h=max_o3_1h)\n",
    "print('US AQI:', aqi_us)\n",
    "print('AQI O3:', aqi_data_us['o3_8h'][0])\n",
    "print('Effects O3:', aqi_data_us['o3_8h'][1])\n",
    "print('Cautions O3:', aqi_data_us['o3_8h'][2])\n",
    "print('AQI CO:', aqi_data_us['co_8h'][0])\n",
    "print('Effects CO:', aqi_data_us['co_8h'][1])\n",
    "print('Cautions CO:', aqi_data_us['co_8h'][2])"
   ]
  },
  {
   "cell_type": "code",
   "execution_count": 183,
   "metadata": {},
   "outputs": [
    {
     "name": "stdout",
     "output_type": "stream",
     "text": [
      "Hong Kong AQHI: 11\n"
     ]
    }
   ],
   "source": [
    "# AQHI using the hk calculations\n",
    "aqhi_hk_value, aqhi_data_hk_dict, *_ = aqhi_hk.get_aqhi(pm25_3h=mean_pm25_3h, pm10_3h=mean_pm10_3h, o3_3h=mean_o3_3h, no2_3h=mean_no2_3h, so2_3h=mean_so2_3h)\n",
    "print('Hong Kong AQHI:', aqhi_hk_value)\n",
    "\n"
   ]
  },
  {
   "cell_type": "code",
   "execution_count": 184,
   "metadata": {},
   "outputs": [
    {
     "name": "stdout",
     "output_type": "stream",
     "text": [
      "Australia AQI: 201\n"
     ]
    }
   ],
   "source": [
    "# AQI using the Australia calculations\n",
    "aqi_au, aqi_data_au = aqi_au.get_aqi(pm10_24h=mean_pm10_24h, pm25_24h=mean_pm25_24h, so2_24h=mean_so2_24h, no2_1h=mean_no2_1h, o3_1h=max_o3_1h, o3_4h=mean_o3_4h, co_8h=mean_co_8h)\n",
    "print('Australia AQI:', aqi_au)"
   ]
  }
 ],
 "metadata": {
  "kernelspec": {
   "display_name": ".venv",
   "language": "python",
   "name": "python3"
  },
  "language_info": {
   "codemirror_mode": {
    "name": "ipython",
    "version": 3
   },
   "file_extension": ".py",
   "mimetype": "text/x-python",
   "name": "python",
   "nbconvert_exporter": "python",
   "pygments_lexer": "ipython3",
   "version": "3.11.11"
  }
 },
 "nbformat": 4,
 "nbformat_minor": 2
}
