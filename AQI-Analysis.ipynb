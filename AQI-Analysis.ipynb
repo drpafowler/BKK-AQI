{
 "cells": [
  {
   "cell_type": "markdown",
   "metadata": {},
   "source": [
    "# This notebook is being used to determine the best approach to calculating AQI.  The methods developed here will be used in the pipeline.  This is not a final product!  This is a work in progress."
   ]
  },
  {
   "cell_type": "code",
   "execution_count": 122,
   "metadata": {},
   "outputs": [],
   "source": [
    "# import libraries\n",
    "import pandas as pd\n",
    "import numpy as np\n",
    "import matplotlib.pyplot as plt\n",
    "import seaborn as sns\n",
    "import sqlite3  \n",
    "from aqipy import aqi_us\n",
    "from aqipy import aqi_cn\n",
    "from aqipy import aqi_au\n",
    "from aqipy import caqi_eu\n",
    "from aqipy import cai_kr\n",
    "from aqipy import daqi_uk\n",
    "from aqipy import aqhi_ca\n",
    "from aqipy import psi_sg"
   ]
  },
  {
   "cell_type": "code",
   "execution_count": 123,
   "metadata": {},
   "outputs": [
    {
     "name": "stdout",
     "output_type": "stream",
     "text": [
      "                           id  aqi   co     h  no2    o3  pressure  pm10  \\\n",
      "time_iso                                                                   \n",
      "2025-02-13 20:00:00+07:00   1  138  0.1  48.0  2.4  19.4    1010.0    58   \n",
      "2025-02-13 20:00:00+07:00   2  138  0.1  48.0  2.4  19.4    1010.0    58   \n",
      "2025-02-13 20:00:00+07:00   3  138  0.1  48.0  2.4  19.4    1010.0    58   \n",
      "2025-02-13 20:00:00+07:00   4  138  0.1  48.0  2.4  19.4    1010.0    58   \n",
      "2025-02-13 20:00:00+07:00   5  138  0.1  48.0  2.4  19.4    1010.0    58   \n",
      "\n",
      "                           pm25  so2  temperature  wind  city_geo_lat  \\\n",
      "time_iso                                                                \n",
      "2025-02-13 20:00:00+07:00   138  0.6         30.0   2.0     13.756331   \n",
      "2025-02-13 20:00:00+07:00   138  0.6         30.0   2.0     13.756331   \n",
      "2025-02-13 20:00:00+07:00   138  0.6         30.0   2.0     13.756331   \n",
      "2025-02-13 20:00:00+07:00   138  0.6         30.0   2.0     13.756331   \n",
      "2025-02-13 20:00:00+07:00   138  0.6         30.0   2.0     13.756331   \n",
      "\n",
      "                           city_geo_lon city_name  \n",
      "time_iso                                           \n",
      "2025-02-13 20:00:00+07:00    100.501765   Bangkok  \n",
      "2025-02-13 20:00:00+07:00    100.501765   Bangkok  \n",
      "2025-02-13 20:00:00+07:00    100.501765   Bangkok  \n",
      "2025-02-13 20:00:00+07:00    100.501765   Bangkok  \n",
      "2025-02-13 20:00:00+07:00    100.501765   Bangkok  \n"
     ]
    }
   ],
   "source": [
    "try:\n",
    "    conn = sqlite3.connect('./data/bkk_aqi.db')\n",
    "    aqi_data = pd.read_sql_query(\"SELECT * FROM aqi_data\", conn)\n",
    "    aqi_data['time_iso'] = pd.to_datetime(aqi_data['time_iso'])\n",
    "    aqi_data = aqi_data.set_index('time_iso')\n",
    "    print(aqi_data.head())\n",
    "except sqlite3.Error as e:\n",
    "    print(f\"Database error: {e}\")\n",
    "except FileNotFoundError:\n",
    "    print(\"Database file not found.\")\n",
    "except Exception as e: # Catching other potential errors\n",
    "    print(f\"An error occurred: {e}\")\n",
    "finally: # Ensure connection is closed even if there is an error\n",
    "        if 'conn' in locals() and conn:\n",
    "            conn.close() # Close the connection in a finally block"
   ]
  },
  {
   "cell_type": "code",
   "execution_count": 124,
   "metadata": {},
   "outputs": [],
   "source": [
    "# note: the following is all of the necessary intervals for the different country's AQI calculations.  They are done this way so that they can be plotted later is I elect to do so.\n",
    "# Pull the most recent so2 data\n",
    "recent_so2 = aqi_data['so2'].iloc[-1]\n",
    "\n",
    "# Pull the most recent 1 hours of data\n",
    "recent_data_1h = aqi_data[aqi_data.index >= (aqi_data.index.max() - pd.Timedelta(hours=1))]\n",
    "\n",
    "#calculate the mean of the most recent 1 hour of data for o3, no2, pm10 and so2\n",
    "mean_o3_1h = recent_data_1h['o3'].mean()\n",
    "mean_no2_1h = recent_data_1h['no2'].mean()\n",
    "mean_so2_1h = recent_data_1h['so2'].mean()\n",
    "mean_pm10_1h = recent_data_1h['pm10'].mean()\n",
    "mean_pm25_1h = recent_data_1h['pm25'].mean()\n",
    "mean_co_1h = recent_data_1h['co'].mean()\n",
    "\n",
    "# Calculate the max of the most recent 1 hour of data for o3, no2, and so2\n",
    "max_o3_1h = recent_data_1h['o3'].max()\n",
    "max_no2_1h = recent_data_1h['no2'].max()\n",
    "max_so2_1h = recent_data_1h['so2'].max()\n",
    "\n",
    "# Pull the most recent 3 hours of data\n",
    "recent_data_3h = aqi_data[aqi_data.index >= (aqi_data.index.max() - pd.Timedelta(hours=3))]\n",
    "\n",
    "# Calculate the mean of the recent 3 hours of data for pm10, pm25, o3, so2, no2 and co\n",
    "mean_pm10_3h = recent_data_3h['pm10'].mean()\n",
    "mean_pm25_3h = recent_data_3h['pm25'].mean()\n",
    "mean_o3_3h = recent_data_3h['o3'].mean()\n",
    "mean_so2_3h = recent_data_3h['so2'].mean()\n",
    "mean_no2_3h = recent_data_3h['no2'].mean()\n",
    "mean_co_3h = recent_data_3h['co'].mean()\n",
    "\n",
    "# Pull the most recent 4 hours of data\n",
    "recent_data_4h = aqi_data[aqi_data.index >= (aqi_data.index.max() - pd.Timedelta(hours=4))]\n",
    "\n",
    "# Calculate the mean of the recent 4 hours of data for o3\n",
    "mean_o3_4h = recent_data_4h['o3'].mean()\n",
    "\n",
    "# Pull the most recent 8 hours of data\n",
    "recent_data_8h = aqi_data[aqi_data.index >= (aqi_data.index.max() - pd.Timedelta(hours=8))]\n",
    "\n",
    "# Calculate the mean of the recent 8 hours of data for o3 and co\n",
    "mean_o3_8h = recent_data_8h['o3'].mean()\n",
    "mean_co_8h = recent_data_8h['co'].mean()\n",
    "\n",
    "# Pull the most recent 24 hours of data\n",
    "recent_data_24h = aqi_data[aqi_data.index >= (aqi_data.index.max() - pd.Timedelta(hours=24))]\n",
    "\n",
    "# Calculate the mean of the recent 24 hours of data for pm10, pm25, co2 and so2\n",
    "mean_pm10_24h = recent_data_24h['pm10'].mean()\n",
    "mean_pm25_24h = recent_data_24h['pm25'].mean()\n",
    "mean_so2_24h = recent_data_24h['so2'].mean()\n",
    "mean_co_24h = recent_data_24h['co'].mean()"
   ]
  },
  {
   "cell_type": "code",
   "execution_count": 125,
   "metadata": {},
   "outputs": [
    {
     "name": "stdout",
     "output_type": "stream",
     "text": [
      "Singapore PSI: 500\n",
      "Pollutant with maximum PSI: o3_8h\n",
      "Singapore PSI General Message: Healthy people may experience adverse symptoms that affect normal activity.\n",
      "Singapore PSI Risk Message: PSI levels above 400 may be life-threatening to ill and elderly persons\n"
     ]
    }
   ],
   "source": [
    "# Get PSI using the sg calculations \n",
    "aqi_sg, aqi_data_sg = psi_sg.get_aqi(\n",
    "    o3_8h=mean_o3_8h, \n",
    "    co_8h=mean_co_8h, \n",
    "    pm10_24h=mean_pm10_24h, \n",
    "    pm25_24h=mean_pm25_24h, \n",
    "    so2_24h=mean_so2_24h, \n",
    "    no2_1h=mean_no2_1h\n",
    ")\n",
    "\n",
    "print('Singapore PSI:', aqi_sg)\n",
    "\n",
    "# Find the pollutant with the maximum AQI value\n",
    "max_pollutant = max(aqi_data_sg, key=lambda k: aqi_data_sg[k][0])\n",
    "\n",
    "# Print the general message and risk message for the pollutant with the maximum AQI value\n",
    "print('Pollutant with maximum PSI:', max_pollutant)\n",
    "print('Singapore PSI General Message:', aqi_data_sg[max_pollutant][1])\n",
    "print('Singapore PSI Risk Message:', aqi_data_sg[max_pollutant][2])"
   ]
  },
  {
   "cell_type": "code",
   "execution_count": 126,
   "metadata": {},
   "outputs": [
    {
     "name": "stdout",
     "output_type": "stream",
     "text": [
      "US AQI: 500\n",
      "Pollutant with maximum AQI: o3_1h\n",
      "US AQI General Message: Severe respiratory effects and impaired breathing likely in people with lung disease (such as asthma), children, older adults, people who are active outdoors (including outdoor workers), people with certain genetic variants, and people with diets limited in certain nutrients; increasingly severe respiratory effects likely in general population.\n",
      "US AQI Risk Message: Everyone should avoid all outdoor exertion.\n"
     ]
    }
   ],
   "source": [
    "# Get AQI using the us calculations \n",
    "aqi_us, aqi_data_us = aqi_us.get_aqi(o3_8h=mean_o3_8h, co_8h=mean_co_8h, pm10_24h=mean_pm10_24h, pm25_24h=mean_pm25_24h, so2_24h=mean_so2_24h, no2_1h=mean_no2_1h, o3_1h=mean_o3_1h)\n",
    "print('US AQI:', aqi_us)\n",
    "\n",
    "# Find the pollutant with the maximum AQI value\n",
    "max_pollutant = max(aqi_data_us, key=lambda k: aqi_data_us[k][0])\n",
    "\n",
    "# Print the general message and risk message for the pollutant with the maximum AQI value\n",
    "print('Pollutant with maximum AQI:', max_pollutant)\n",
    "print('US AQI General Message:', aqi_data_us[max_pollutant][1])\n",
    "print('US AQI Risk Message:', aqi_data_us[max_pollutant][2])\n"
   ]
  },
  {
   "cell_type": "code",
   "execution_count": 127,
   "metadata": {},
   "outputs": [
    {
     "name": "stdout",
     "output_type": "stream",
     "text": [
      "Australia AQI: 201\n",
      "Pollutant with maximum AQI: o3_1h\n",
      "Australia AQI General Message: Adults should avoid strenuous outdoor activities.\n",
      "Australia AQI Risk Message: Sensitive groups should avoid all outdoor activities.\n"
     ]
    }
   ],
   "source": [
    "# AQI using the Australia calculations\n",
    "aqi_au, aqi_data_au = aqi_au.get_aqi(pm10_24h=mean_pm10_24h, pm25_24h=mean_pm25_24h, so2_24h=mean_so2_24h, no2_1h=mean_no2_1h, o3_1h=max_o3_1h, o3_4h=mean_o3_4h, co_8h=mean_co_8h)\n",
    "print('Australia AQI:', aqi_au)\n",
    "\n",
    "# Find the pollutant with the maximum AQI value\n",
    "max_pollutant = max(aqi_data_au, key=lambda k: aqi_data_au[k][0])\n",
    "\n",
    "# Print the general message and risk message for the pollutant with the maximum AQI value\n",
    "print('Pollutant with maximum AQI:', max_pollutant)\n",
    "print('Australia AQI General Message:', aqi_data_au[max_pollutant][1])\n",
    "print('Australia AQI Risk Message:', aqi_data_au[max_pollutant][2])"
   ]
  },
  {
   "cell_type": "code",
   "execution_count": 128,
   "metadata": {},
   "outputs": [
    {
     "name": "stdout",
     "output_type": "stream",
     "text": [
      "EU CAQI: 100\n"
     ]
    }
   ],
   "source": [
    "# AQI using the EU calculations\n",
    "caqi_eu, aqi_data_eu = caqi_eu.get_caqi(pm10_24h=mean_pm10_24h, pm10_1h=mean_pm10_1h, pm25_24h=mean_pm25_24h, pm25_1h=mean_pm25_1h, so2_max_1h=max_so2_1h, no2_max_1h=max_no2_1h, o3_max_1h=max_o3_1h, co_1h=mean_co_1h)\n",
    "print('EU CAQI:', caqi_eu)\n",
    "\n",
    "# note: EU doesn't have general or risk messages\n"
   ]
  },
  {
   "cell_type": "code",
   "execution_count": 129,
   "metadata": {},
   "outputs": [
    {
     "name": "stdout",
     "output_type": "stream",
     "text": [
      "China AQI: 300\n",
      "Pollutant with maximum AQI: o3_1h\n",
      "China AQI General Message: Healthy people will experience reduced endurance in activities and may also show noticeably strong symptoms. Other illnesses may be triggered in healthy people. Elders and the sick should remain indoors and avoid exercise. Healthy individuals should avoid outdoor activities.\n",
      "China AQI Risk Message: Children, seniors and the sick should stay indoors and avoid physical exertion. General population should avoid outdoor activities.\n"
     ]
    }
   ],
   "source": [
    "# AQI using the China calculations\n",
    "aqi_cn, aqi_data_cn = aqi_cn.get_aqi(pm10_24h=mean_pm10_24h, pm25_24h=mean_pm25_24h, so2_24h=mean_so2_24h, no2_24h=mean_no2_3h, o3_8h=mean_o3_8h, co_24h=mean_co_24h, o3_1h=mean_o3_1h)\n",
    "print('China AQI:', aqi_cn)\n",
    "\n",
    "# Find the pollutant with the maximum AQI value\n",
    "max_pollutant = max(aqi_data_cn, key=lambda k: aqi_data_cn[k][0])\n",
    "\n",
    "# Print the general message and risk message for the pollutant with the maximum AQI value\n",
    "print('Pollutant with maximum AQI:', max_pollutant)\n",
    "print('China AQI General Message:', aqi_data_cn[max_pollutant][1])\n",
    "print('China AQI Risk Message:', aqi_data_cn[max_pollutant][2])\n"
   ]
  },
  {
   "cell_type": "code",
   "execution_count": 130,
   "metadata": {},
   "outputs": [
    {
     "name": "stdout",
     "output_type": "stream",
     "text": [
      "UK DAQI: 10\n",
      "Pollutant with maximum DAQI: o3_1h\n",
      "UK DAQI General Message: Reduce physical exertion, particularly outdoors, especially if you experience symptoms such as cough or sore throat.\n",
      "UK DAQI Risk Message: Adults and children with lung problems, adults with heart problems, and older people, should avoid strenuous physical activity. People with asthma may find they need to use their reliever inhaler more often.\n"
     ]
    }
   ],
   "source": [
    "# using the uk calculations\n",
    "daqi_uk, aqi_data_uk = daqi_uk.get_daqi(pm10_24h=mean_pm10_24h, pm25_24h=mean_pm25_24h, so2_15m=recent_so2, no2_1h=mean_no2_1h, o3_1h=mean_o3_1h)\n",
    "print('UK DAQI:', daqi_uk)\n",
    "\n",
    "# Find the pollutant with the maximum AQI value\n",
    "max_pollutant = max(aqi_data_uk, key=lambda k: aqi_data_uk[k][0])\n",
    "\n",
    "# Print the general message and risk message for the pollutant with the maximum AQI value\n",
    "print('Pollutant with maximum DAQI:', max_pollutant)\n",
    "print('UK DAQI General Message:', aqi_data_uk[max_pollutant][1])\n",
    "print('UK DAQI Risk Message:', aqi_data_uk[max_pollutant][2])"
   ]
  },
  {
   "cell_type": "code",
   "execution_count": 131,
   "metadata": {},
   "outputs": [
    {
     "name": "stdout",
     "output_type": "stream",
     "text": [
      "Korean CAI: 500\n",
      "Pollutant with maximum CAI: o3_1h\n",
      "Korean CAI General Message: A level which may need to take emergency measures for patients and members of sensitive groups and have harmful impacts on the general public\n",
      "Korean CAI Risk Message: A level which may need to take emergency measures for patients and members of sensitive groups and have harmful impacts on the general public\n"
     ]
    }
   ],
   "source": [
    "# AQI using the Korean calculations\n",
    "cai_kr, aqi_data_kr = cai_kr.get_aqi(pm10_24h=mean_pm10_24h, pm25_24h=mean_pm25_24h, no2_1h=mean_no2_1h, so2_1h=mean_so2_1h, o3_1h=mean_o3_1h)\n",
    "print('Korean CAI:', cai_kr)\n",
    "\n",
    "# Find the pollutant with the maximum AQI value\n",
    "max_pollutant = max(aqi_data_kr, key=lambda k: aqi_data_kr[k][0])\n",
    "\n",
    "# Print the general message and risk message for the pollutant with the maximum AQI value\n",
    "print('Pollutant with maximum CAI:', max_pollutant)\n",
    "print('Korean CAI General Message:', aqi_data_kr[max_pollutant][1])\n",
    "print('Korean CAI Risk Message:', aqi_data_kr[max_pollutant][2])"
   ]
  },
  {
   "cell_type": "code",
   "execution_count": 132,
   "metadata": {},
   "outputs": [
    {
     "name": "stdout",
     "output_type": "stream",
     "text": [
      "Canadian AQHI: 11\n"
     ]
    }
   ],
   "source": [
    "# AQI using the Canadian calculations\n",
    "aqhi_ca, aqi_data_ca, _ = aqhi_ca.get_aqhi(pm10_3h=mean_pm10_3h, pm25_3h=mean_pm25_3h, no2_3h=mean_no2_3h, o3_3h=mean_o3_3h)\n",
    "print('Canadian AQHI:', aqhi_ca)\n",
    "\n"
   ]
  }
 ],
 "metadata": {
  "kernelspec": {
   "display_name": ".venv",
   "language": "python",
   "name": "python3"
  },
  "language_info": {
   "codemirror_mode": {
    "name": "ipython",
    "version": 3
   },
   "file_extension": ".py",
   "mimetype": "text/x-python",
   "name": "python",
   "nbconvert_exporter": "python",
   "pygments_lexer": "ipython3",
   "version": "3.11.11"
  }
 },
 "nbformat": 4,
 "nbformat_minor": 2
}
